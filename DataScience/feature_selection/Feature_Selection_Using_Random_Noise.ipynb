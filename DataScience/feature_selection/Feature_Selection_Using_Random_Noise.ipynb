{
  "cells": [
    {
      "cell_type": "markdown",
      "id": "5936baa8-6af1-49ac-8786-3cad3ee21fed",
      "metadata": {
        "id": "5936baa8-6af1-49ac-8786-3cad3ee21fed"
      },
      "source": [
        "# Feature Selection Using Random Noise\n",
        "\n",
        "The ability to filter out unnecessary features is an important task in ML. By simplifying the feature space, it helps the ML process in various ways. Some benefits of simplifying the feature space include:\n",
        "* Reduction of computation time.\n",
        "* Reduction of the size of the dataset during storage.\n",
        "* Removal of redundant features.\n",
        "* Simplification of the data pipeline.\n",
        "\n",
        "In this notebook, we'll go over a simple method to reduce the feature space using a random gaussian feature and permutation importance.\n",
        "\n",
        "Before we begin, let's import the necessary libraries for this exercise."
      ]
    },
    {
      "cell_type": "code",
      "execution_count": null,
      "id": "516eaa72-5dd2-4d82-93d7-8095aacc5be6",
      "metadata": {
        "id": "516eaa72-5dd2-4d82-93d7-8095aacc5be6"
      },
      "outputs": [],
      "source": [
        "from sklearn import datasets\n",
        "from sklearn.ensemble import RandomForestRegressor\n",
        "import matplotlib.pyplot as plt\n",
        "from sklearn.model_selection import train_test_split\n",
        "import numpy as np\n",
        "from sklearn.inspection import permutation_importance\n",
        "import pandas as pd"
      ]
    },
    {
      "cell_type": "markdown",
      "id": "597c30d5-6996-4474-82d3-8385b8c9d351",
      "metadata": {
        "id": "597c30d5-6996-4474-82d3-8385b8c9d351"
      },
      "source": [
        "Next, we'll import the popular diabetes dataset using SKlearn. I prefer this dataset because it doesn't require extra preprocessing."
      ]
    },
    {
      "cell_type": "code",
      "execution_count": null,
      "id": "ecfe2614-b117-4aa0-b158-3cca8f410906",
      "metadata": {
        "id": "ecfe2614-b117-4aa0-b158-3cca8f410906"
      },
      "outputs": [],
      "source": [
        "X, y = datasets.load_diabetes(return_X_y=True, as_frame=True)"
      ]
    },
    {
      "cell_type": "markdown",
      "id": "940c79af-15fc-4a61-91b8-ba7e23cf8201",
      "metadata": {
        "id": "940c79af-15fc-4a61-91b8-ba7e23cf8201"
      },
      "source": [
        "This is where, using NumPy, we'll make our random column. We'll name it 'random' and treat it as another feature in our dataset.\n",
        "\n",
        "The idea here is, because it's a random feature, it doesn't contribute to the model prediction. We're intentionally adding random noise. With the help of permutation importance, this will help us determine which features to exclude later."
      ]
    },
    {
      "cell_type": "code",
      "execution_count": null,
      "id": "f3fc9c3f-c21c-46db-992d-2237f53db500",
      "metadata": {
        "id": "f3fc9c3f-c21c-46db-992d-2237f53db500"
      },
      "outputs": [],
      "source": [
        "X = X.assign(\n",
        "        random = np.random.normal(size=X.shape[0])\n",
        "    )"
      ]
    },
    {
      "cell_type": "markdown",
      "id": "5ee1ebaa-85ac-43bb-bf18-e6cb57e845f7",
      "metadata": {
        "id": "5ee1ebaa-85ac-43bb-bf18-e6cb57e845f7"
      },
      "source": [
        "Nothing fancy happening here. We'll split the data as train/test for later evaluation."
      ]
    },
    {
      "cell_type": "code",
      "execution_count": null,
      "id": "0a765fe4-d9ab-4c5e-8522-5021c3c03f85",
      "metadata": {
        "id": "0a765fe4-d9ab-4c5e-8522-5021c3c03f85"
      },
      "outputs": [],
      "source": [
        "X_train, X_test, y_train, y_test = train_test_split(X, y, random_state=42)"
      ]
    },
    {
      "cell_type": "markdown",
      "id": "2a8a214b-c405-48b1-b2dd-95d8a73bd2fa",
      "metadata": {
        "id": "2a8a214b-c405-48b1-b2dd-95d8a73bd2fa"
      },
      "source": [
        "We're going to use random forest for this exercise, because it's easy and doesn't require the features to be normalized/standardized."
      ]
    },
    {
      "cell_type": "code",
      "execution_count": null,
      "id": "12ad9b59-6da0-4e73-80c5-2110143215c4",
      "metadata": {
        "id": "12ad9b59-6da0-4e73-80c5-2110143215c4"
      },
      "outputs": [],
      "source": [
        "rf = RandomForestRegressor()"
      ]
    },
    {
      "cell_type": "markdown",
      "id": "94d374ad-7c75-48e0-acab-ab686da2d273",
      "metadata": {
        "id": "94d374ad-7c75-48e0-acab-ab686da2d273"
      },
      "source": [
        "We fit our model."
      ]
    },
    {
      "cell_type": "code",
      "execution_count": null,
      "id": "875a127e-cd31-4368-b967-60fe0fc45147",
      "metadata": {
        "id": "875a127e-cd31-4368-b967-60fe0fc45147",
        "outputId": "a48ffbd8-4d7f-4001-9fce-2d18615eea89"
      },
      "outputs": [
        {
          "data": {
            "text/plain": [
              "RandomForestRegressor()"
            ]
          },
          "execution_count": 6,
          "metadata": {},
          "output_type": "execute_result"
        }
      ],
      "source": [
        "rf.fit(X_train, y_train)"
      ]
    },
    {
      "cell_type": "markdown",
      "id": "fa68cc58-7f73-44e1-99ea-59dc00cd2100",
      "metadata": {
        "id": "fa68cc58-7f73-44e1-99ea-59dc00cd2100"
      },
      "source": [
        "And we score it on the test set."
      ]
    },
    {
      "cell_type": "code",
      "execution_count": null,
      "id": "18ac3726-82c3-409e-8695-7ba58ababab4",
      "metadata": {
        "id": "18ac3726-82c3-409e-8695-7ba58ababab4",
        "outputId": "ab15509c-09c3-4c31-dba1-27a1682bc075"
      },
      "outputs": [
        {
          "data": {
            "text/plain": [
              "0.4856244017023714"
            ]
          },
          "execution_count": 7,
          "metadata": {},
          "output_type": "execute_result"
        }
      ],
      "source": [
        "rf.score(X_test, y_test)"
      ]
    },
    {
      "cell_type": "markdown",
      "id": "1fdfc91b-6df6-4be5-838d-069e5bcafea4",
      "metadata": {
        "id": "1fdfc91b-6df6-4be5-838d-069e5bcafea4"
      },
      "source": [
        "Now it's time to look at the feature importances. We'll use the model agnostic method, permutation importance, to help us with this. (In case you're wondering how permutation importance works, check out my article on it: https://github.com/AkmelSyed/Coding-Permutation-Importance-from-Scratch/blob/main/Coding%20Permutation%20Importance%20from%20Scratch.ipynb)."
      ]
    },
    {
      "cell_type": "code",
      "execution_count": null,
      "id": "a3139e2e-7b9c-4066-b5c3-8b13abd4397d",
      "metadata": {
        "id": "a3139e2e-7b9c-4066-b5c3-8b13abd4397d"
      },
      "outputs": [],
      "source": [
        "result = permutation_importance(\n",
        "    rf, X_test, y_test, n_repeats=100, random_state=42\n",
        ")"
      ]
    },
    {
      "cell_type": "markdown",
      "id": "3043d3f8-897c-418f-b331-96d0af583ee0",
      "metadata": {
        "id": "3043d3f8-897c-418f-b331-96d0af583ee0"
      },
      "source": [
        "To help us plot our feature importances, we'll make a small function (I stole it off SKlearn's website)."
      ]
    },
    {
      "cell_type": "code",
      "execution_count": null,
      "id": "aa421daf-f208-4541-adf5-ae0a542b3090",
      "metadata": {
        "id": "aa421daf-f208-4541-adf5-ae0a542b3090"
      },
      "outputs": [],
      "source": [
        "def plot_permutation_importance(perm_dict, X, title):\n",
        "    sorted_importances_idx = perm_dict['importances_mean'].argsort()\n",
        "    importances = pd.DataFrame(\n",
        "        perm_dict['importances'][sorted_importances_idx].T,\n",
        "        columns=X.columns[sorted_importances_idx],\n",
        "    )\n",
        "    ax = importances.plot.box(vert=False, whis=10)\n",
        "    ax.set_title(title)\n",
        "    ax.axvline(x=0, color=\"k\", linestyle=\"--\")\n",
        "    ax.set_xlabel('Decrease in accuracy score')\n",
        "    ax.figure.tight_layout()"
      ]
    },
    {
      "cell_type": "markdown",
      "id": "81a417d8-2b73-447a-9649-18d70d7bd037",
      "metadata": {
        "id": "81a417d8-2b73-447a-9649-18d70d7bd037"
      },
      "source": [
        "And here's our feature importances plot."
      ]
    },
    {
      "cell_type": "code",
      "execution_count": null,
      "id": "97941c3c-e82c-411a-b9c5-37dea95b2d71",
      "metadata": {
        "id": "97941c3c-e82c-411a-b9c5-37dea95b2d71",
        "outputId": "3647ca1e-a191-425c-fa99-b609bb4cdb92"
      },
      "outputs": [
        {
          "data": {
            "image/png": "[encoded data removed]",
            "text/plain": [
              "<Figure size 432x288 with 1 Axes>"
            ]
          },
          "metadata": {
            "needs_background": "light"
          },
          "output_type": "display_data"
        }
      ],
      "source": [
        "plot_permutation_importance(result, X_test, 'Feature Importances Plot')"
      ]
    },
    {
      "cell_type": "markdown",
      "id": "61d5318d-df22-45d6-98cb-9c16a30d648e",
      "metadata": {
        "id": "61d5318d-df22-45d6-98cb-9c16a30d648e"
      },
      "source": [
        "We see our 'random' feature has a higher average influence than some features. We also see that the top of the whisker for the random feature encompasses the average influence values for all features which are not 'bmi', 's5' and 'bp'.\n",
        "\n",
        "What we'll do is remove all the features except those 3.\n",
        "\n",
        "Let's retrain our model."
      ]
    },
    {
      "cell_type": "code",
      "execution_count": null,
      "id": "f2ac88db-64ea-45d8-a619-118ddfd66455",
      "metadata": {
        "id": "f2ac88db-64ea-45d8-a619-118ddfd66455",
        "outputId": "b045c657-a552-4cf6-93e7-6319d49dbb4a"
      },
      "outputs": [
        {
          "data": {
            "text/plain": [
              "RandomForestRegressor()"
            ]
          },
          "execution_count": 11,
          "metadata": {},
          "output_type": "execute_result"
        }
      ],
      "source": [
        "keep_cols = ['bmi', 's5', 'bp']\n",
        "rf.fit(X_train[keep_cols], y_train)"
      ]
    },
    {
      "cell_type": "markdown",
      "id": "c12eb4e0-55d0-4c65-938f-05ce924156d4",
      "metadata": {
        "id": "c12eb4e0-55d0-4c65-938f-05ce924156d4"
      },
      "source": [
        "And surprise, our model performs just as well with only 3 features."
      ]
    },
    {
      "cell_type": "code",
      "execution_count": null,
      "id": "6b0115c4-ac50-4015-8d8b-d98c345e633e",
      "metadata": {
        "id": "6b0115c4-ac50-4015-8d8b-d98c345e633e",
        "outputId": "6c7fc222-9629-4a6b-8a49-ab583699c69a"
      },
      "outputs": [
        {
          "data": {
            "text/plain": [
              "0.47410104592443747"
            ]
          },
          "execution_count": 12,
          "metadata": {},
          "output_type": "execute_result"
        }
      ],
      "source": [
        "rf.score(X_test[keep_cols], y_test)"
      ]
    }
  ],
  "metadata": {
    "kernelspec": {
      "display_name": "Python 3 (ipykernel)",
      "language": "python",
      "name": "python3"
    },
    "language_info": {
      "codemirror_mode": {
        "name": "ipython",
        "version": 3
      },
      "file_extension": ".py",
      "mimetype": "text/x-python",
      "name": "python",
      "nbconvert_exporter": "python",
      "pygments_lexer": "ipython3",
      "version": "3.9.7"
    },
    "colab": {
      "provenance": []
    }
  },
  "nbformat": 4,
  "nbformat_minor": 5
}